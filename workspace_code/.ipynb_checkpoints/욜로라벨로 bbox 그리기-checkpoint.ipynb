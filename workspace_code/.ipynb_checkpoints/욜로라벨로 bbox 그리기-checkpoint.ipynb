{
 "cells": [
  {
   "cell_type": "markdown",
   "id": "97efd43b",
   "metadata": {},
   "source": [
    "# 욜로라벨로 bbox 그리기\n",
    "- 이미지 ,라벨(yolo포맷) 필요\n",
    "\n"
   ]
  },
  {
   "cell_type": "code",
   "execution_count": 8,
   "id": "dac965fc",
   "metadata": {},
   "outputs": [
    {
     "ename": "ModuleNotFoundError",
     "evalue": "No module named 'PIL'",
     "output_type": "error",
     "traceback": [
      "\u001b[1;31m---------------------------------------------------------------------------\u001b[0m",
      "\u001b[1;31mModuleNotFoundError\u001b[0m                       Traceback (most recent call last)",
      "\u001b[1;32m~\\AppData\\Local\\Temp/ipykernel_17712/2269239582.py\u001b[0m in \u001b[0;36m<module>\u001b[1;34m\u001b[0m\n\u001b[0;32m      3\u001b[0m \u001b[1;32mimport\u001b[0m \u001b[0mglob\u001b[0m\u001b[1;33m\u001b[0m\u001b[1;33m\u001b[0m\u001b[0m\n\u001b[0;32m      4\u001b[0m \u001b[1;32mimport\u001b[0m \u001b[0mjson\u001b[0m\u001b[1;33m\u001b[0m\u001b[1;33m\u001b[0m\u001b[0m\n\u001b[1;32m----> 5\u001b[1;33m \u001b[1;32mfrom\u001b[0m \u001b[0mPIL\u001b[0m \u001b[1;32mimport\u001b[0m \u001b[0mImage\u001b[0m\u001b[1;33m\u001b[0m\u001b[1;33m\u001b[0m\u001b[0m\n\u001b[0m\u001b[0;32m      6\u001b[0m \u001b[1;32mimport\u001b[0m \u001b[0mcv2\u001b[0m\u001b[1;33m\u001b[0m\u001b[1;33m\u001b[0m\u001b[0m\n\u001b[0;32m      7\u001b[0m \u001b[1;32mimport\u001b[0m \u001b[0mmatplotlib\u001b[0m\u001b[1;33m.\u001b[0m\u001b[0mpyplot\u001b[0m \u001b[1;32mas\u001b[0m \u001b[0mplt\u001b[0m\u001b[1;33m\u001b[0m\u001b[1;33m\u001b[0m\u001b[0m\n",
      "\u001b[1;31mModuleNotFoundError\u001b[0m: No module named 'PIL'"
     ]
    }
   ],
   "source": [
    "import math\n",
    "import os\n",
    "import glob\n",
    "import json\n",
    "from PIL import Image\n",
    "import cv2\n",
    "import matplotlib.pyplot as plt\n",
    "import numpy as np\n",
    "import itertools"
   ]
  },
  {
   "cell_type": "code",
   "execution_count": 9,
   "id": "a46817fe",
   "metadata": {},
   "outputs": [],
   "source": [
    "def yolo2coordinate(tmp_x,tmp_y,tmp_w,tmp_h):\n",
    "    x = float(tmp_x*3840)\n",
    "    y = float(tmp_y*2160)\n",
    "    w = float(tmp_w*3840)\n",
    "    h = float(tmp_h*2160)\n",
    "    print(\"좌표:{}{}{}{}\".format(x,y,w,h))\n",
    "    \n",
    "    x1 = x-(w/2)\n",
    "    y1 = y-(h/2)\n",
    "    x2 = x+(w/2)\n",
    "    y2 = y+(h/2)\n",
    "    \n",
    "    return x1,y1,x2,y2\n"
   ]
  },
  {
   "cell_type": "code",
   "execution_count": 10,
   "id": "b155f774",
   "metadata": {},
   "outputs": [],
   "source": [
    "def createFolder(directory):\n",
    "    try:\n",
    "        if not os.path.exists(directory):\n",
    "            os.makedirs(directory)\n",
    "    except OSError:\n",
    "        print ('Error: Creating directory. ' +  directory)"
   ]
  },
  {
   "cell_type": "code",
   "execution_count": 11,
   "id": "12421209",
   "metadata": {},
   "outputs": [
    {
     "data": {
      "text/plain": [
       "'C:\\\\Users\\\\aiffel\\\\Documents\\\\AirSim\\\\workspace_code'"
      ]
     },
     "execution_count": 11,
     "metadata": {},
     "output_type": "execute_result"
    }
   ],
   "source": [
    "os.getcwd()"
   ]
  },
  {
   "cell_type": "markdown",
   "id": "ff27f7f3",
   "metadata": {},
   "source": [
    "```\n",
    "C:\\Users\\slkaf\\Documents\\AirSim\\datasets 에서 img랑 label 가져옴\n",
    "C:\\Users\\slkaf\\Documents\\AirSim\\datasets  위에서 가져온 img랑 label로 bbox 그림    \n",
    "    \n",
    "```"
   ]
  },
  {
   "cell_type": "code",
   "execution_count": 12,
   "id": "5cd917aa",
   "metadata": {},
   "outputs": [
    {
     "ename": "NameError",
     "evalue": "name 'cv2' is not defined",
     "output_type": "error",
     "traceback": [
      "\u001b[1;31m---------------------------------------------------------------------------\u001b[0m",
      "\u001b[1;31mNameError\u001b[0m                                 Traceback (most recent call last)",
      "\u001b[1;32m~\\AppData\\Local\\Temp/ipykernel_17712/890955942.py\u001b[0m in \u001b[0;36m<module>\u001b[1;34m\u001b[0m\n\u001b[0;32m     27\u001b[0m \u001b[1;33m\u001b[0m\u001b[0m\n\u001b[0;32m     28\u001b[0m \u001b[1;33m\u001b[0m\u001b[0m\n\u001b[1;32m---> 29\u001b[1;33m         \u001b[0mimg\u001b[0m \u001b[1;33m=\u001b[0m \u001b[0mcv2\u001b[0m\u001b[1;33m.\u001b[0m\u001b[0mimread\u001b[0m\u001b[1;33m(\u001b[0m\u001b[0mpath_datasets\u001b[0m\u001b[1;33m+\u001b[0m\u001b[0mname\u001b[0m\u001b[1;33m+\u001b[0m\u001b[1;34m'.jpg'\u001b[0m\u001b[1;33m,\u001b[0m\u001b[1;36m1\u001b[0m\u001b[1;33m)\u001b[0m\u001b[1;31m#이미지 불러오기\u001b[0m\u001b[1;33m\u001b[0m\u001b[1;33m\u001b[0m\u001b[0m\n\u001b[0m\u001b[0;32m     30\u001b[0m         \u001b[0mlist_cor\u001b[0m\u001b[1;33m=\u001b[0m\u001b[1;33m[\u001b[0m\u001b[1;33m]\u001b[0m\u001b[1;33m\u001b[0m\u001b[1;33m\u001b[0m\u001b[0m\n\u001b[0;32m     31\u001b[0m         \u001b[1;32mfor\u001b[0m \u001b[0mv\u001b[0m \u001b[1;32min\u001b[0m \u001b[0mf\u001b[0m\u001b[1;33m.\u001b[0m\u001b[0mreadlines\u001b[0m\u001b[1;33m(\u001b[0m\u001b[1;33m)\u001b[0m\u001b[1;33m:\u001b[0m\u001b[1;33m\u001b[0m\u001b[1;33m\u001b[0m\u001b[0m\n",
      "\u001b[1;31mNameError\u001b[0m: name 'cv2' is not defined"
     ]
    }
   ],
   "source": [
    "\n",
    "path_datasets = os.path.expanduser('~')+'\\\\\\Documents\\\\Airsim\\\\EF_Ground_datasets+토요일 밤샘작업\\\\'\n",
    "path_bbox_check = os.path.expanduser('~')+'\\\\\\Documents\\\\Airsim\\\\datasets_bbox_check_01\\\\'\n",
    "createFolder(path_bbox_check)\n",
    "\n",
    "\n",
    "img_list = sorted(glob.glob(path_datasets + \"*.jpg\"))  #경로.jpg\n",
    "img_name = sorted(os.listdir(path_datasets))           #파일명.jpg\n",
    "\n",
    "label_list = sorted(glob.glob(path_datasets + \"*.txt\"))   ##경로.txt \n",
    "label_name = sorted(os.listdir(path_datasets))            #파일명.txt\n",
    "\n",
    "\n",
    "list_name=[]\n",
    "for v in img_name:\n",
    "    list_name.append(v.split('.')[0])\n",
    "    #print(name)\n",
    "    \n",
    "list_name = list(set(list_name))\n",
    "#print(list_name)\n",
    "\n",
    "\n",
    "i=1\n",
    "for name in list_name:\n",
    "    \n",
    "    labelpath=path_datasets+name+'.txt'\n",
    "    with open(labelpath, 'r') as f:\n",
    "        \n",
    "        \n",
    "        img = cv2.imread(path_datasets+name+'.jpg',1)#이미지 불러오기\n",
    "        list_cor=[]\n",
    "        for v in f.readlines():\n",
    "            \n",
    "            \n",
    "            print(v)\n",
    "            list_cor = v.split()\n",
    "        \n",
    "            print(list_cor)\n",
    "            x = list_cor[1]\n",
    "            y = list_cor[2]\n",
    "            w = list_cor[3]\n",
    "            h = list_cor[4]\n",
    "\n",
    "            x1,y1,x2,y2 = yolo2coordinate(float(x), float(y), float(w), float(h))\n",
    "            \n",
    "            print(x1,y1)\n",
    "            #print(x1,y1,x2,y2)\n",
    "    \n",
    "            #print(path_datasets+name+'.jpg')\n",
    "            \n",
    "            cv2.rectangle(img,(int(x1),int(y1)),(int(x2),int(y2)),(255,0,0),2) # 이미지에 좌표 그리기\n",
    "\n",
    "            #print(path_bbox_check+name+ '.jpg')\n",
    "\n",
    "\n",
    " \n",
    "        cv2.imwrite(path_bbox_check+name+ '.jpg', img)\n"
   ]
  },
  {
   "cell_type": "code",
   "execution_count": null,
   "id": "62c743a7",
   "metadata": {},
   "outputs": [],
   "source": []
  },
  {
   "cell_type": "code",
   "execution_count": null,
   "id": "ec3b5d15",
   "metadata": {},
   "outputs": [],
   "source": []
  }
 ],
 "metadata": {
  "kernelspec": {
   "display_name": "Python 3 (ipykernel)",
   "language": "python",
   "name": "python3"
  },
  "language_info": {
   "codemirror_mode": {
    "name": "ipython",
    "version": 3
   },
   "file_extension": ".py",
   "mimetype": "text/x-python",
   "name": "python",
   "nbconvert_exporter": "python",
   "pygments_lexer": "ipython3",
   "version": "3.7.11"
  }
 },
 "nbformat": 4,
 "nbformat_minor": 5
}
